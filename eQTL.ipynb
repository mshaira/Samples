{
  "nbformat": 4,
  "nbformat_minor": 0,
  "metadata": {
    "colab": {
      "name": "eQTL.ipynb",
      "provenance": []
    },
    "kernelspec": {
      "name": "python3",
      "display_name": "Python 3"
    },
    "language_info": {
      "name": "python"
    }
  },
  "cells": [
    {
      "cell_type": "code",
      "source": [
        "import pandas as pd  \n",
        "import seaborn as sns\n",
        "import matplotlib.pyplot as plt\n",
        "from sklearn import linear_model\n",
        "import numpy as np"
      ],
      "metadata": {
        "id": "8L1i0-phVKXG"
      },
      "execution_count": 19,
      "outputs": []
    },
    {
      "cell_type": "code",
      "execution_count": 3,
      "metadata": {
        "colab": {
          "base_uri": "https://localhost:8080/"
        },
        "id": "Sok3Owr1sWfC",
        "outputId": "c7bce303-8d4d-4805-fc27-0ab5a1f400bf"
      },
      "outputs": [
        {
          "output_type": "stream",
          "name": "stdout",
          "text": [
            "   Individual Variant  Value\n",
            "0           1     A/A   12.3\n",
            "1           2     B/B   10.2\n",
            "2           3     B/B    9.9\n",
            "3           4     A/B   11.3\n",
            "4           5     B/B    9.5\n",
            "5           6     A/A   14.2\n",
            "6           7     A/B   10.2\n",
            "7           8     A/B   13.1\n",
            "8           9     B/B   14.0\n"
          ]
        }
      ],
      "source": [
        "\n",
        "\n",
        "data = {'Individual': [1,2,3,4,5,6,7,8,9], \n",
        "        'Variant': ['A/A','B/B','B/B','A/B','B/B','A/A','A/B','A/B','B/B'],\n",
        "        'Value': [12.3,10.2,9.9,11.3,9.5,14.2,10.2,13.1,14.0]}  \n",
        "  \n",
        "# Create DataFrame  \n",
        "df = pd.DataFrame(data)  \n",
        "  \n",
        "# Print the output.  \n",
        "print(df)  "
      ]
    },
    {
      "cell_type": "markdown",
      "source": [
        "**This data represents a specific position in the genome sequence for all individuals (persons)**"
      ],
      "metadata": {
        "id": "5Kwgl11quFgv"
      }
    },
    {
      "cell_type": "code",
      "source": [
        "df.boxplot(column = 'Value', by = 'Variant')"
      ],
      "metadata": {
        "colab": {
          "base_uri": "https://localhost:8080/",
          "height": 375
        },
        "id": "KFg-70yTuPFS",
        "outputId": "58a05f87-dddd-469a-b59f-14cee92bd80d"
      },
      "execution_count": 4,
      "outputs": [
        {
          "output_type": "stream",
          "name": "stderr",
          "text": [
            "/usr/local/lib/python3.7/dist-packages/matplotlib/cbook/__init__.py:1376: VisibleDeprecationWarning: Creating an ndarray from ragged nested sequences (which is a list-or-tuple of lists-or-tuples-or ndarrays with different lengths or shapes) is deprecated. If you meant to do this, you must specify 'dtype=object' when creating the ndarray.\n",
            "  X = np.atleast_1d(X.T if isinstance(X, np.ndarray) else np.asarray(X))\n"
          ]
        },
        {
          "output_type": "execute_result",
          "data": {
            "text/plain": [
              "<matplotlib.axes._subplots.AxesSubplot at 0x7f62cb995090>"
            ]
          },
          "metadata": {},
          "execution_count": 4
        },
        {
          "output_type": "display_data",
          "data": {
            "text/plain": [
              "<Figure size 432x288 with 1 Axes>"
            ],
            "image/png": "[encoded data removed]"
          },
          "metadata": {
            "needs_background": "light"
          }
        }
      ]
    },
    {
      "cell_type": "code",
      "source": [
        "means = df.groupby(['Variant']).mean().reset_index()\n",
        "print(means)"
      ],
      "metadata": {
        "colab": {
          "base_uri": "https://localhost:8080/"
        },
        "id": "2y_zeZamebbD",
        "outputId": "d3f5caef-46f4-4e37-c873-a3780c43d6ca"
      },
      "execution_count": 5,
      "outputs": [
        {
          "output_type": "stream",
          "name": "stdout",
          "text": [
            "  Variant  Individual      Value\n",
            "0     A/A    3.500000  13.250000\n",
            "1     A/B    6.333333  11.533333\n",
            "2     B/B    4.750000  10.900000\n"
          ]
        }
      ]
    },
    {
      "cell_type": "code",
      "source": [
        "means.boxplot(column = 'Value', by = 'Variant')"
      ],
      "metadata": {
        "colab": {
          "base_uri": "https://localhost:8080/",
          "height": 319
        },
        "id": "AF8O-I_ce_bU",
        "outputId": "a329b050-167f-489e-c69b-14a6dac76ffe"
      },
      "execution_count": 6,
      "outputs": [
        {
          "output_type": "execute_result",
          "data": {
            "text/plain": [
              "<matplotlib.axes._subplots.AxesSubplot at 0x7f62cb85c510>"
            ]
          },
          "metadata": {},
          "execution_count": 6
        },
        {
          "output_type": "display_data",
          "data": {
            "text/plain": [
              "<Figure size 432x288 with 1 Axes>"
            ],
            "image/png": "[encoded data removed]"
          },
          "metadata": {
            "needs_background": "light"
          }
        }
      ]
    },
    {
      "cell_type": "code",
      "source": [
        "plt.scatter(x=means['Variant'], y=means['Value'])"
      ],
      "metadata": {
        "colab": {
          "base_uri": "https://localhost:8080/",
          "height": 283
        },
        "id": "vZWVFfr5fLQk",
        "outputId": "65150203-070f-4fbe-dff1-3c4c88b38bc3"
      },
      "execution_count": 7,
      "outputs": [
        {
          "output_type": "execute_result",
          "data": {
            "text/plain": [
              "<matplotlib.collections.PathCollection at 0x7f62cb395d90>"
            ]
          },
          "metadata": {},
          "execution_count": 7
        },
        {
          "output_type": "display_data",
          "data": {
            "text/plain": [
              "<Figure size 432x288 with 1 Axes>"
            ],
            "image/png": "[encoded data removed]"
          },
          "metadata": {
            "needs_background": "light"
          }
        }
      ]
    },
    {
      "cell_type": "code",
      "source": [
        "print(means)"
      ],
      "metadata": {
        "colab": {
          "base_uri": "https://localhost:8080/"
        },
        "id": "iKMGBic8Ypnr",
        "outputId": "92f4cd82-6c14-43b0-d93c-f44c771afeed"
      },
      "execution_count": 8,
      "outputs": [
        {
          "output_type": "stream",
          "name": "stdout",
          "text": [
            "  Variant  Individual      Value\n",
            "0     A/A    3.500000  13.250000\n",
            "1     A/B    6.333333  11.533333\n",
            "2     B/B    4.750000  10.900000\n"
          ]
        }
      ]
    },
    {
      "cell_type": "code",
      "source": [
        "weight = []\n",
        "for row in means['Variant']:\n",
        "  if row == 'A/A':\n",
        "    weight.append(0)\n",
        "  if row == 'A/B':\n",
        "    weight.append(1)\n",
        "  if row == 'B/B':\n",
        "    weight.append(2)\n",
        "\n",
        "\n",
        "means['weight'] = weight\n",
        "print(means) \n",
        "  "
      ],
      "metadata": {
        "colab": {
          "base_uri": "https://localhost:8080/"
        },
        "id": "LS3L3ixLaZbU",
        "outputId": "19f7a2ed-dffc-4a4e-b350-91973b37e228"
      },
      "execution_count": 13,
      "outputs": [
        {
          "output_type": "stream",
          "name": "stdout",
          "text": [
            "  Variant  Individual      Value  weight\n",
            "0     A/A    3.500000  13.250000       0\n",
            "1     A/B    6.333333  11.533333       1\n",
            "2     B/B    4.750000  10.900000       2\n"
          ]
        }
      ]
    },
    {
      "cell_type": "code",
      "source": [
        "x = np.asarray(means['weight']).reshape(-1,1)\n",
        "y = np.asarray(means['Value'])\n",
        "linear = linear_model.LinearRegression()\n",
        "linear.fit(x, y)"
      ],
      "metadata": {
        "colab": {
          "base_uri": "https://localhost:8080/"
        },
        "id": "qbsqCru9bLcK",
        "outputId": "6322d6ee-442a-4612-9b07-b8fe319f9c0d"
      },
      "execution_count": 25,
      "outputs": [
        {
          "output_type": "execute_result",
          "data": {
            "text/plain": [
              "LinearRegression()"
            ]
          },
          "metadata": {},
          "execution_count": 25
        }
      ]
    },
    {
      "cell_type": "code",
      "source": [
        "y_pred = linear.predict(x)"
      ],
      "metadata": {
        "id": "Zx8MugTQdkwD"
      },
      "execution_count": 26,
      "outputs": []
    },
    {
      "cell_type": "code",
      "source": [
        "plt.scatter(x,y)\n",
        "plt.plot(x,y_pred, color='red')\n",
        "plt.show()"
      ],
      "metadata": {
        "colab": {
          "base_uri": "https://localhost:8080/",
          "height": 265
        },
        "id": "F0XVfA8teaUL",
        "outputId": "7aa61112-3013-4e0d-fc60-eab619fcf377"
      },
      "execution_count": 28,
      "outputs": [
        {
          "output_type": "display_data",
          "data": {
            "text/plain": [
              "<Figure size 432x288 with 1 Axes>"
            ],
            "image/png": "[encoded data removed]"
          },
          "metadata": {
            "needs_background": "light"
          }
        }
      ]
    },
    {
      "cell_type": "code",
      "source": [
        "print('Slope = ', linear.coef_[0])\n",
        "print('Y-intercept = ', linear.intercept_)"
      ],
      "metadata": {
        "colab": {
          "base_uri": "https://localhost:8080/"
        },
        "id": "XBpRkZVefB7G",
        "outputId": "2e01da49-0b5b-4e45-d1ee-5017e6d866b8"
      },
      "execution_count": 36,
      "outputs": [
        {
          "output_type": "stream",
          "name": "stdout",
          "text": [
            "Slope =  -1.1749999999999994\n",
            "Y-intercept =  13.069444444444443\n"
          ]
        }
      ]
    }
  ]
}